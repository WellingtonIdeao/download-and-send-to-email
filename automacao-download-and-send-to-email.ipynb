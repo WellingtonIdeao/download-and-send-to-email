{
 "cells": [
  {
   "cell_type": "code",
   "execution_count": 53,
   "metadata": {},
   "outputs": [],
   "source": [
    "# importa bibliotecas\n",
    "import pyautogui\n",
    "import time\n",
    "import pyperclip\n",
    "\n"
   ]
  },
  {
   "cell_type": "markdown",
   "metadata": {},
   "source": [
    "ABRE NAVEGADOR"
   ]
  },
  {
   "cell_type": "code",
   "execution_count": 54,
   "metadata": {},
   "outputs": [],
   "source": [
    "pyautogui.alert(\"Vai comecar, aperte OK e nao mexa em nada\")\n",
    "# abrir navegador\n",
    "pyautogui.PAUSE = 1\n",
    "pyautogui.press(\"win\")\n",
    "pyautogui.write(\"chrome\")\n",
    "pyautogui.press(\"enter\")\n",
    "pyautogui.hotkey(\"ctrl\", \"t\")"
   ]
  },
  {
   "cell_type": "markdown",
   "metadata": {},
   "source": [
    "ABRE DRIVER"
   ]
  },
  {
   "cell_type": "code",
   "execution_count": 55,
   "metadata": {},
   "outputs": [],
   "source": [
    "# abrir o driver\n",
    "link = \"url_driver\"\n",
    "pyperclip.copy(link)\n",
    "pyautogui.hotkey(\"ctrl\", \"v\")\n",
    "pyautogui.press(\"enter\")\n",
    "time.sleep(5)"
   ]
  },
  {
   "cell_type": "code",
   "execution_count": 56,
   "metadata": {},
   "outputs": [],
   "source": [
    "# baixar arquivo\n",
    "pyautogui.click(371, 478)\n",
    "pyautogui.click(1157, 192)\n",
    "pyautogui.click(1005, 562)\n",
    "time.sleep(10)"
   ]
  },
  {
   "cell_type": "markdown",
   "metadata": {},
   "source": [
    "IMPORTANDO PANDAS E EXTRAINDO DADOS DA TABELA"
   ]
  },
  {
   "cell_type": "code",
   "execution_count": 2,
   "metadata": {
    "scrolled": true
   },
   "outputs": [],
   "source": [
    "# importando o pandas\n",
    "import pandas as pd\n",
    "\n",
    "# importando a base de dados\n",
    "# df= dataframe\n",
    "df = pd.read_excel(r\"absolute url\")\n",
    "\n",
    "# Calculando Faturamento e Qtde Produtos\n",
    "\n",
    "# extraindo dados das colunas da tabela\n",
    "# soma dos valores das colunas valor final e quantidade de produtos vendidos\n",
    "faturamento = df[\"Valor Final\"].sum()\n",
    "qtde_produtos = df[\"Quantidade\"].sum()\n",
    "\n",
    "# monstrando a tabela\n",
    "# display(df)\n"
   ]
  },
  {
   "cell_type": "markdown",
   "metadata": {},
   "source": [
    "ABRINDO/ENVIANDO EMAIL"
   ]
  },
  {
   "cell_type": "code",
   "execution_count": 58,
   "metadata": {},
   "outputs": [
    {
     "data": {
      "text/plain": [
       "'OK'"
      ]
     },
     "execution_count": 58,
     "metadata": {},
     "output_type": "execute_result"
    }
   ],
   "source": [
    "# Criando um relatório via e-mail\n",
    "\n",
    "# abrir aba gmail\n",
    "\n",
    "pyautogui.hotkey(\"ctrl\", \"t\")\n",
    "link = \"email url\"\n",
    "pyperclip.copy(link)\n",
    "pyautogui.hotkey(\"ctrl\", \"v\")\n",
    "pyautogui.press(\"enter\")\n",
    "\n",
    "# criando novo email\n",
    "\n",
    "time.sleep(10)\n",
    "pyautogui.click(83, 204)\n",
    "\n",
    "# preenchendo dados\n",
    "destinatario = \"email\"\n",
    "assunto = \"Relatório de vendas de ontem\"\n",
    "msg = f\"\"\"\n",
    "Prezados, Bom dia!\n",
    "O faturamento de ontem foi de: R${faturamento:,.2f}\n",
    "A quantidade de produtos foi de: R${qtde_produtos:,}\n",
    "\n",
    "Abs,\n",
    "Wellington Ideao\n",
    "\"\"\"\n",
    "time.sleep(5)\n",
    "\n",
    "pyperclip.copy(destinatario)\n",
    "pyautogui.hotkey(\"ctrl\", \"v\")\n",
    "pyautogui.press(\"tab\")\n",
    "\n",
    "pyperclip.copy(assunto)\n",
    "pyautogui.hotkey(\"ctrl\", \"v\")\n",
    "pyautogui.press(\"tab\")\n",
    "\n",
    "pyperclip.copy(msg)\n",
    "pyautogui.hotkey(\"ctrl\", \"v\")\n",
    "\n",
    "# enviando email\n",
    "pyautogui.hotkey(\"ctrl\", \"enter\")\n",
    "pyautogui.alert(\"tudo pronto! relatorio de vendas enviado com sucesso!\")"
   ]
  },
  {
   "cell_type": "markdown",
   "metadata": {},
   "source": [
    "DESCOBRINDO POSICAO MOUSE"
   ]
  },
  {
   "cell_type": "code",
   "execution_count": 59,
   "metadata": {},
   "outputs": [
    {
     "name": "stdout",
     "output_type": "stream",
     "text": [
      "Point(x=556, y=366)\n"
     ]
    }
   ],
   "source": [
    "import time\n",
    "import pyautogui\n",
    "# descobrir a posicao do mouse\n",
    "time.sleep(10)\n",
    "print(pyautogui.position())"
   ]
  },
  {
   "cell_type": "code",
   "execution_count": null,
   "metadata": {},
   "outputs": [],
   "source": []
  }
 ],
 "metadata": {
  "kernelspec": {
   "display_name": "Python 3",
   "language": "python",
   "name": "python3"
  },
  "language_info": {
   "codemirror_mode": {
    "name": "ipython",
    "version": 3
   },
   "file_extension": ".py",
   "mimetype": "text/x-python",
   "name": "python",
   "nbconvert_exporter": "python",
   "pygments_lexer": "ipython3",
   "version": "3.8.5"
  }
 },
 "nbformat": 4,
 "nbformat_minor": 4
}
